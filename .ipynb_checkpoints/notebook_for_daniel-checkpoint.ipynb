{
 "cells": [
  {
   "cell_type": "markdown",
   "id": "62863204",
   "metadata": {},
   "source": [
    "The cell below imports a number of useful functions (including `numpy`)."
   ]
  },
  {
   "cell_type": "code",
   "execution_count": 1,
   "id": "836a02fa",
   "metadata": {},
   "outputs": [
    {
     "name": "stdout",
     "output_type": "stream",
     "text": [
      "Populating the interactive namespace from numpy and matplotlib\n"
     ]
    }
   ],
   "source": [
    "%pylab inline\n",
    "from scipy.optimize import curve_fit\n",
    "from scipy.stats import norm"
   ]
  },
  {
   "cell_type": "markdown",
   "id": "1b42e6c5",
   "metadata": {},
   "source": [
    "The following cell may require installation of some python packages.\n",
    "They are useful for visualization but not important for the simulations themselves"
   ]
  },
  {
   "cell_type": "code",
   "execution_count": 2,
   "id": "517b1d5a",
   "metadata": {},
   "outputs": [],
   "source": [
    "# from Bio import Phylo\n",
    "# from io import StringIO\n",
    "import ete3"
   ]
  },
  {
   "cell_type": "markdown",
   "id": "463443be",
   "metadata": {},
   "source": [
    "# Simulation Code"
   ]
  },
  {
   "cell_type": "code",
   "execution_count": 3,
   "id": "46dfd44a",
   "metadata": {},
   "outputs": [],
   "source": [
    "# get index of node as integer, given format of tree (string)\n",
    "def idx(x):\n",
    "    return int(x.split('.')[0])\n",
    "    \n",
    "# an auxiliary class used to store the data from the phylogeny of genotypes.\n",
    "class Tree:\n",
    "    def __init__(self):\n",
    "        # indexes nodes by string of form index.epoch\n",
    "        self.par_dict = {} # parent identity\n",
    "        self.dist_dict = {} # distance to parent for newick (not the same as mutational distance)\n",
    "        self.mut_dist_dict = {} # mutational distance to parent\n",
    "        self.nodes = [] # does not include root\n",
    "        self.lifetime_dict = {}\n",
    "    \n",
    "    def __len__(self):\n",
    "        return len(self.nodes)\n",
    "    \n",
    "    # adds a leaf from the specified parent\n",
    "    def add_node(self,child,parent):\n",
    "        self.par_dict[child] = parent\n",
    "        self.dist_dict[child] = 0\n",
    "        self.nodes.append(child)\n",
    "        if parent=='root' or idx(child)==idx(parent):\n",
    "            self.mut_dist_dict[child] = 0\n",
    "        else:\n",
    "            self.mut_dist_dict[child] = 1\n",
    "    \n",
    "    # gets mutational distance between two lineages. Inputs are integers\n",
    "    def get_mut_dist(self,n1,n2):\n",
    "        par_dict = self.par_dict\n",
    "        \n",
    "        n2_par = {}\n",
    "        x = '%s.%s'%(n2,n2)\n",
    "        v = 0\n",
    "        while True:\n",
    "            n2_par[x] = v\n",
    "            if idx(x) != idx(par_dict[x]): # checks if different lineage\n",
    "                v += 1\n",
    "            x = par_dict[x]\n",
    "            if x=='root':break\n",
    "                \n",
    "        y = '%s.%s'%(n1,n1)\n",
    "        u = 0\n",
    "        while True:\n",
    "            if y in n2_par:\n",
    "                return u+n2_par[y]\n",
    "            if idx(y) != idx(par_dict[y]):\n",
    "                u += 1\n",
    "            y = par_dict[y]\n",
    "            \n",
    "    # True if x is an ancestor of y. Inputs are integers\n",
    "    def is_anc(self,x,y):\n",
    "        u = '%s.%s'%(y,y)\n",
    "        v = '%s.%s'%(x,x)\n",
    "        while True:\n",
    "            if u==v:\n",
    "                return True\n",
    "            if u=='root':\n",
    "                return False\n",
    "            u = self.par_dict[u]\n",
    "            \n",
    "    def get_child_dict(self,input_dict):\n",
    "        # generate dictionary of list of children for every node\n",
    "        inv_map = {}\n",
    "        for k,v in input_dict.items():\n",
    "            if v not in inv_map.keys():\n",
    "                inv_map[v]=[k]\n",
    "            else:\n",
    "                inv_map[v].append(k)\n",
    "        return inv_map\n",
    "    \n",
    "    def get_full_newick(self,par_dict=None,dist_dict=None,mutations=False):\n",
    "        if par_dict is None:\n",
    "            child_dict = self.get_child_dict(self.par_dict)\n",
    "        else:\n",
    "            child_dict = self.get_child_dict(par_dict)\n",
    "        if dist_dict is None:\n",
    "            if mutations:\n",
    "                branch_lengths = self.mut_dist_dict\n",
    "            else:\n",
    "                branch_lengths = self.dist_dict\n",
    "        else:\n",
    "            branch_lengths = dist_dict\n",
    "\n",
    "        def generate_newick(node):\n",
    "            if node in child_dict:\n",
    "                if node in branch_lengths:\n",
    "                    dist = branch_lengths[node]\n",
    "                else: # only for root\n",
    "                    dist = 0\n",
    "                return '('+(','.join([generate_newick(s) for s in child_dict[node]])\n",
    "                           )+')'+str(node)+':%s'%dist\n",
    "            else:\n",
    "                return str(node)+':%s'%branch_lengths[node]\n",
    "        return generate_newick('root')+';'\n",
    "\n",
    "    def get_final_newick(self,node_list,mutations=False):\n",
    "        init_node='root'\n",
    "        def generate_newick(node):\n",
    "            if node in final_child_dict:\n",
    "                return '('+(','.join([generate_newick(s) for s in final_child_dict[node]])\n",
    "                           )+')'+str(node)+':'+str(final_length_dict[node])\n",
    "            else:\n",
    "                return str(node)+':'+str(final_length_dict[node])\n",
    "\n",
    "        final_child_dict,final_length_dict,_ = self.get_final_dicts(node_list,init_node=init_node,mutations=mutations)\n",
    "        tree_string = generate_newick(init_node)+';'\n",
    "        return tree_string\n",
    "\n",
    "\n",
    "    # gets child dictionary and dictionary of branch lengths for final newick containing\n",
    "    # nodes specified in node_list\n",
    "    # only includes nodes which branch\n",
    "    def get_final_dicts(self,node_list,init_node='root',mutations=False):\n",
    "        par_dict = self.par_dict\n",
    "        if mutations:\n",
    "            branch_lengths = self.mut_dist_dict\n",
    "        else:\n",
    "            branch_lengths = self.dist_dict\n",
    "\n",
    "        # sets entries of parent dictionary\n",
    "        def set_parent_dict(node):\n",
    "            if (node not in par_dict) or node in par_dict_intermediate:\n",
    "                return\n",
    "            par_dict_intermediate[node] = par_dict[node]\n",
    "            set_parent_dict(par_dict[node])\n",
    "            \n",
    "        # gets length of branch and node name of closest upstream branch point (where final tree splits)\n",
    "        def get_branch_length(node):\n",
    "            if node == init_node:\n",
    "                return (0,'scratch_node') # this node name doesn't matter and doesn't appear in final newick\n",
    "            if par_dict_intermediate[node]==init_node or len(child_dict_intermediate[par_dict_intermediate[node]])>1:\n",
    "                return (branch_lengths[node],par_dict_intermediate[node])\n",
    "            xx = get_branch_length(par_dict_intermediate[node])\n",
    "            return (branch_lengths[node]+xx[0],xx[1])\n",
    "\n",
    "        par_dict_intermediate = {} # parent dictionary for final nodes and all their ancestors\n",
    "        for child in node_list:\n",
    "            set_parent_dict(child)\n",
    "        child_dict_intermediate = self.get_child_dict(par_dict_intermediate)\n",
    "\n",
    "        # the nodes that we want to keep are all those without exactly 1 child, plus the root node\n",
    "        nodes_to_keep = [init_node,*[x for x in child_dict_intermediate if len(child_dict_intermediate[x])!=1],*node_list]\n",
    "        \n",
    "        final_parent_dict = {} # parents of final nodes\n",
    "        final_length_dict = {} # branch lengths\n",
    "        for nn in nodes_to_keep:\n",
    "            final_length_dict[nn],final_parent_dict[nn] = get_branch_length(nn)\n",
    "        \n",
    "        final_child_dict = self.get_child_dict(final_parent_dict)\n",
    "        return final_child_dict,final_length_dict,final_parent_dict\n",
    "\n",
    "\n",
    "    # computes the number of generations for which each fitness class was populated\n",
    "    def compute_lifetime_dict(self):\n",
    "        for n in self.nodes:\n",
    "            dd = idx(n)\n",
    "            if dd not in self.lifetime_dict:\n",
    "                self.lifetime_dict[dd] = self.dist_dict[n]\n",
    "            else:\n",
    "                self.lifetime_dict[dd] += self.dist_dict[n]\n",
    "\n",
    "    def get_reduced_newick(self,newick_reduction,mutations=False):\n",
    "        if mutations:\n",
    "            branch_lengths = self.mut_dist_dict\n",
    "        else:\n",
    "            branch_lengths = self.dist_dict\n",
    "\n",
    "        if self.lifetime_dict=={}:\n",
    "            self.compute_lifetime_dict()\n",
    "        par_dict_reduced = {}\n",
    "        dist_dict_reduced = {'0.0':0}\n",
    "\n",
    "        # only includes fitness classes which survived more than specified number of generations\n",
    "        # if a node didn't live that long, reconnects back until parent lives long enough or root reached\n",
    "        for s in self.par_dict:\n",
    "            if self.lifetime_dict[idx(s)]<newick_reduction:\n",
    "                continue\n",
    "            par_dict_reduced[s] = self.par_dict[s]\n",
    "            dist_dict_reduced[s] = branch_lengths[s]\n",
    "            while not(par_dict_reduced[s]=='root') and self.lifetime_dict[idx(par_dict_reduced[s])]<newick_reduction:\n",
    "                dist_dict_reduced[s] += branch_lengths[par_dict_reduced[s]]\n",
    "                par_dict_reduced[s] = self.par_dict[par_dict_reduced[s]]\n",
    "\n",
    "        # get rid of intermediate nodes which do not branch\n",
    "        pointer_child_dict = self.get_child_dict(par_dict_reduced)\n",
    "        pr_keys = list(par_dict_reduced.keys())\n",
    "        for s in pr_keys:\n",
    "            if s in pointer_child_dict and len(pointer_child_dict[s])==1 and not(s=='root'):\n",
    "                dist_dict_reduced[pointer_child_dict[s][0]] += dist_dict_reduced[s]\n",
    "                par_dict_reduced[pointer_child_dict[s][0]] = par_dict_reduced[s]\n",
    "                par_dict_reduced.pop(s)\n",
    "                dist_dict_reduced.pop(s)\n",
    "\n",
    "        new = self.get_full_newick(par_dict=par_dict_reduced,dist_dict=dist_dict_reduced)\n",
    "        return new\n",
    "\n",
    "#######################\n",
    "#######################\n",
    "    \n",
    "# runs evolution where D(l) is a sum of exponentials: therefore does not store entire covariance matrix\n",
    "# still assumes treelike limit\n",
    "# resolves the population at the level of genotypes\n",
    "class RandomEvo_Exp:\n",
    "    # stores the trajectory in a tree, where each node is associated with a mu and an s (in a tuple)\n",
    "    def __init__(self,N,U,coeff_list,corr_len_list,additive=1,seed=None):\n",
    "        if seed is None:\n",
    "            self.seed = np.random.randint(2147483647)\n",
    "        else:\n",
    "            self.seed = seed\n",
    "        np.random.seed(self.seed)\n",
    "\n",
    "        self.N = N # population size\n",
    "        self.U = U # overall mutation rate (per generation)\n",
    "        self.additive = additive # coefficient of additive piece\n",
    "        self.tree = Tree() # each node of the tree is a fitness class, with a mu, and the s from its parent to it\n",
    "        self.coeff_list = coeff_list # list of coefficients for each exponential\n",
    "        self.corr_len_list = corr_len_list # list of correlation lengths for each exponential\n",
    "        assert len(coeff_list)==len(corr_len_list)\n",
    "\n",
    "        self.rho_list = np.exp(-1/corr_len_list)\n",
    "        self.rho_func = np.sqrt((1-self.rho_list**2)/2)\n",
    "        self.K = len(coeff_list) # number of exponentials to track\n",
    "\n",
    "        self.labels = {} # stores ([mu_1,mu_2,..],[s_1,s_2,..]) for each node\n",
    "        self.subpop = {} # stores number of individuals in each fitness class\n",
    "        self.fitness = {}\n",
    "        \n",
    "        self.tree.add_node('0.0','root') # parents are denoted by index.epoch\n",
    "        self.labels['0.0'] = (np.zeros(self.K),np.zeros(self.K))\n",
    "        self.subpop['0.0'] = N\n",
    "        self.fitness['0.0'] = 0\n",
    "        self.active_nodes = ['0.0'] # list of fitness classes which are populated\n",
    "\n",
    "        self.count = 0 # number of fitness classes instantiated\n",
    "        self.gen = 0 # generation number of evolution\n",
    "    \n",
    "    # grows all nodes in the tree corresponding to populated fitness classes\n",
    "    def grow_tree(self):\n",
    "        for x in self.active_nodes:\n",
    "            self.tree.dist_dict[x]+=1\n",
    "\n",
    "    # makes k new fitness classes, descended from a specified parent fitness class\n",
    "    def new_fitness_classes(self,par,k):\n",
    "        if k==0:return\n",
    "        tree = self.tree\n",
    "        mu_par = self.labels[par][0]\n",
    "\n",
    "        for child_idx in range(k):\n",
    "            s_child = mu_par + self.rho_func*np.random.randn(self.K)\n",
    "            mu_child = mu_par - (1-self.rho_list)*s_child\n",
    "\n",
    "            # add node to tree\n",
    "            self.count += 1\n",
    "            new_node = '%s.%s'%(self.count,self.gen)\n",
    "            tree.add_node(new_node,par)\n",
    "            \n",
    "            self.labels[new_node] = (mu_child,s_child)\n",
    "            self.subpop[new_node] = 1\n",
    "            self.active_nodes.append(new_node)\n",
    "            self.fitness[new_node] = self.fitness[par]+np.dot(self.coeff_list,s_child)+np.sqrt(self.additive)*np.random.randn()\n",
    "        \n",
    "        new_par = '%s.%s'%(idx(par),self.gen)\n",
    "        tree.add_node(new_par,par)\n",
    "        self.labels[new_par] = self.labels[par]\n",
    "        self.subpop[new_par] = self.subpop[par]\n",
    "        self.subpop[par] = 0\n",
    "        self.fitness[new_par] = self.fitness[par]\n",
    "        self.active_nodes.remove(par)\n",
    "        self.active_nodes.append(new_par)\n",
    "\n",
    "    def get_mean_fitness(self):\n",
    "        return np.mean([self.fitness[x] for x in self.active_nodes])\n",
    "    \n",
    "    def step_generation(self):\n",
    "        self.gen += 1\n",
    "        self.grow_tree()\n",
    "\n",
    "        mean_fitness = self.get_mean_fitness()\n",
    "        active_nodes = self.active_nodes\n",
    "\n",
    "        mean_offspring = np.array([self.subpop[x]*np.exp(self.fitness[x]-mean_fitness) for x in active_nodes])\n",
    "        actual_offspring = np.random.multinomial(self.N,mean_offspring/np.sum(mean_offspring))\n",
    "        num_muts = np.random.binomial(actual_offspring,self.U)\n",
    "\n",
    "        for kk,an in enumerate(active_nodes.copy()): # since active_nodes changes during iteration\n",
    "            self.subpop[an] = actual_offspring[kk] - num_muts[kk]\n",
    "            self.new_fitness_classes(an,num_muts[kk])\n",
    "\n",
    "        for x in active_nodes:\n",
    "            if self.subpop[x]==0:\n",
    "                active_nodes.remove(x)\n",
    "   \n",
    "    # runs evolution for desired number of generations\n",
    "    def run_evo(self,num_steps):\n",
    "        self.s_dist_traj = [] # mean fitness of population over evolution\n",
    "        self.num_active_classes = [] # number of populated fitness classes over evolution\n",
    "        self.mean_fitness = []\n",
    "        for i in range(num_steps):\n",
    "            self.step_generation()\n",
    "            an = self.active_nodes\n",
    "            self.s_dist_traj.append({self.fitness[x]:self.subpop[x] for x in an})\n",
    "            self.num_active_classes.append(len(an))\n",
    "            self.mean_fitness.append(self.get_mean_fitness())\n",
    "\n",
    "    def get_full_newick(self,mutations=False):\n",
    "        return self.tree.get_full_newick(mutations=mutations)\n",
    "\n",
    "    # get newick where leaves are active nodes\n",
    "    def get_final_newick(self,mutations=False):\n",
    "        return self.tree.get_final_newick(self.active_nodes,mutations=mutations)\n",
    "\n",
    "    def get_reduced_newick(self,newick_reduction,mutations=False):\n",
    "        return self.tree.get_reduced_newick(newick_reduction,mutations=mutations)\n",
    "\n",
    "\n"
   ]
  },
  {
   "cell_type": "markdown",
   "id": "eb2a3730",
   "metadata": {},
   "source": [
    "# Run Simulation"
   ]
  },
  {
   "cell_type": "markdown",
   "id": "8ecac9d8",
   "metadata": {},
   "source": [
    "Below we define a function which, given an array of coefficients and correlation lengths, returns $$D(l) = \\sum_i a_i(1-e^{-l/\\xi_i})$$\n"
   ]
  },
  {
   "cell_type": "code",
   "execution_count": 4,
   "id": "ee8b602d",
   "metadata": {},
   "outputs": [],
   "source": [
    "def sum_exp(x,*params):\n",
    "    L = len(params)\n",
    "    assert L%2==0\n",
    "    coeffs = params[:L//2]\n",
    "    lens = params[L//2:]\n",
    "    return sum([coeffs[i]*(1-exp(-x/l)) for i,l in enumerate(lens)],axis=0)"
   ]
  },
  {
   "cell_type": "markdown",
   "id": "a85eccdc",
   "metadata": {},
   "source": [
    "## Sum of exponentials fit to power law\n",
    "Here we show that one can approximate a power law quite well over orders of magnitude, using just $k=3$ exponentials, with parameters fit using the `curve_fit` function. However in the rest of the notebook we just use a combination of additive and independent pieces for the fitness landscape."
   ]
  },
  {
   "cell_type": "code",
   "execution_count": 5,
   "id": "20432d72",
   "metadata": {},
   "outputs": [
    {
     "data": {
      "text/plain": [
       "<matplotlib.legend.Legend at 0x13b24e828>"
      ]
     },
     "execution_count": 5,
     "metadata": {},
     "output_type": "execute_result"
    },
    {
     "data": {
      "image/png": "[encoded data removed]",
      "text/plain": [
       "<Figure size 432x288 with 1 Axes>"
      ]
     },
     "metadata": {
      "needs_background": "light"
     },
     "output_type": "display_data"
    }
   ],
   "source": [
    "xfit = linspace(0,1000,1000)\n",
    "alpha = .5\n",
    "y = xfit**alpha\n",
    "k = 3 # number of exponentials\n",
    "popt,_ = curve_fit(sum_exp,xfit,y,p0=ones(2*k))\n",
    "\n",
    "L = len(popt)\n",
    "coeff_list = popt[:L//2]\n",
    "corr_len_list = popt[L//2:]\n",
    "\n",
    "plot(xfit,y,label='power law',linewidth=3)\n",
    "plot(xfit,sum_exp(xfit,*popt),label='sum of exponentials',linewidth=3,linestyle='dotted')\n",
    "legend()"
   ]
  },
  {
   "cell_type": "markdown",
   "id": "c79b8c68",
   "metadata": {},
   "source": [
    "## Sum of Additive and Independent\n",
    "Here we explore the combination of an additive landscape and a simple exponential. We put in the exponential piece by having the landscape determined by a very small correlation length $D(l) = a(1-e^{-l/\\xi})$ with $\\xi\\to0$. On top of this we have an additive piece with mean $0$ and tunable variance.\n",
    "\n",
    "We see that our simulations can handle up to a few thousand genoypes alive at any given instant. The parameters that control this are $N$, the population size and $U$ the overall mutation rate."
   ]
  },
  {
   "cell_type": "code",
   "execution_count": 6,
   "id": "dead0f50",
   "metadata": {},
   "outputs": [],
   "source": [
    "N = 100000 # population size\n",
    "U = 1e-3 # mutation rate\n",
    "add = .2 # variance of the additive piece; mean is 0\n",
    "ind = .6 # strength of independent piece\n",
    "eps = .001 # correlation length of independent piece (taken to be very small)\n",
    "\n",
    "RE = RandomEvo_Exp(N,U,ind*ones(1),eps*ones(1),seed=2,additive=add)\n",
    "RE.run_evo(500)"
   ]
  },
  {
   "cell_type": "code",
   "execution_count": 7,
   "id": "32f8831e",
   "metadata": {},
   "outputs": [
    {
     "data": {
      "text/plain": [
       "Text(0, 0.5, 'mean fitness')"
      ]
     },
     "execution_count": 7,
     "metadata": {},
     "output_type": "execute_result"
    },
    {
     "data": {
      "image/png": "[encoded data removed]",
      "text/plain": [
       "<Figure size 432x288 with 1 Axes>"
      ]
     },
     "metadata": {
      "needs_background": "light"
     },
     "output_type": "display_data"
    }
   ],
   "source": [
    "plot(RE.mean_fitness)\n",
    "xlabel('generations')\n",
    "ylabel('mean fitness')"
   ]
  },
  {
   "cell_type": "code",
   "execution_count": 8,
   "id": "440716e3",
   "metadata": {},
   "outputs": [
    {
     "data": {
      "text/plain": [
       "Text(0, 0.5, 'number of extant genotypes')"
      ]
     },
     "execution_count": 8,
     "metadata": {},
     "output_type": "execute_result"
    },
    {
     "data": {
      "image/png": "[encoded data removed]",
      "text/plain": [
       "<Figure size 432x288 with 1 Axes>"
      ]
     },
     "metadata": {
      "needs_background": "light"
     },
     "output_type": "display_data"
    }
   ],
   "source": [
    "plot(RE.num_active_classes)\n",
    "xlabel('generations')\n",
    "ylabel('number of extant genotypes')"
   ]
  },
  {
   "cell_type": "code",
   "execution_count": 9,
   "id": "8941d069",
   "metadata": {},
   "outputs": [
    {
     "data": {
      "text/plain": [
       "<matplotlib.legend.Legend at 0x145e82ef0>"
      ]
     },
     "execution_count": 9,
     "metadata": {},
     "output_type": "execute_result"
    },
    {
     "data": {
      "image/png": "[encoded data removed]",
      "text/plain": [
       "<Figure size 432x288 with 1 Axes>"
      ]
     },
     "metadata": {
      "needs_background": "light"
     },
     "output_type": "display_data"
    }
   ],
   "source": [
    "cmap = mpl.cm.get_cmap('viridis')\n",
    "norm = mpl.colors.Normalize(vmin=0, vmax=len(RE.s_dist_traj))\n",
    "\n",
    "for ii in linspace(0,len(RE.s_dist_traj)-1,5):\n",
    "    dist = RE.s_dist_traj[int(ii)]\n",
    "    x = []\n",
    "    y = []\n",
    "    for j in dist:\n",
    "        x.append(j)\n",
    "        y.append(dist[j])\n",
    "    bar(x,y,width=.3,color=cmap(norm(ii)),label=ii)\n",
    "yscale('log')\n",
    "xlabel('fitness')\n",
    "ylabel('number of individuals')\n",
    "legend(title='generation')"
   ]
  },
  {
   "cell_type": "markdown",
   "id": "e09ef339",
   "metadata": {},
   "source": [
    "# Visualization\n",
    "We can visualize a phylogeny of the genotypes. At any point a vertical cut will intersect all the genotypes alive at that moment in time. The tree becomes very bushy very quickly, so we have done some pruning of short-lived genotypes for ease of plotting and visualization.\n",
    "\n",
    "The cell below generates a pdf image of the phylogeny of the genotypes generated by simulation."
   ]
  },
  {
   "cell_type": "code",
   "execution_count": 10,
   "id": "9c44fc6e",
   "metadata": {},
   "outputs": [],
   "source": [
    "tree_string = RE.get_reduced_newick(15,mutations=False)\n",
    "T = ete3.Tree(tree_string,format=1)\n",
    "\n",
    "TS = ete3.TreeStyle()\n",
    "TS.scale=4\n",
    "TS.branch_vertical_margin=4\n",
    "TS.show_leaf_name=False\n",
    "\n",
    "for n in T.traverse():\n",
    "    nstyle=ete3.NodeStyle()\n",
    "    if len(n.get_children())==0:\n",
    "        nstyle[\"size\"]=1\n",
    "    else:\n",
    "        nstyle[\"size\"]=0\n",
    "    n.set_style(nstyle)\n",
    "\n",
    "\n",
    "T.ladderize()\n",
    "T.render('reduced_newick_demo.pdf',tree_style=TS);"
   ]
  },
  {
   "cell_type": "markdown",
   "id": "64a6add2",
   "metadata": {},
   "source": [
    "# Vary relative strength of adaptive and independent part\n",
    "We can vary the variance of the independent part of the landscape and see how this changes the dynamics of evolution. The larger this variance, the slower we expect adaptation to be. The additive part of the landscape has fixed variance throughout."
   ]
  },
  {
   "cell_type": "code",
   "execution_count": 11,
   "id": "f6197f66",
   "metadata": {},
   "outputs": [],
   "source": [
    "N = 1000\n",
    "U = 1e-3\n",
    "add = .1\n",
    "ind_array = arange(0,1,.2)\n",
    "\n",
    "mf = []\n",
    "\n",
    "for ind in ind_array:\n",
    "    RE = RandomEvo_Exp(N,U,ind*ones(1),.001*ones(1),seed=5,additive=add)\n",
    "    RE.run_evo(5000)\n",
    "    mf.append(RE.mean_fitness)"
   ]
  },
  {
   "cell_type": "code",
   "execution_count": 12,
   "id": "918574d5",
   "metadata": {},
   "outputs": [
    {
     "data": {
      "text/plain": [
       "<matplotlib.legend.Legend at 0x145e5f630>"
      ]
     },
     "execution_count": 12,
     "metadata": {},
     "output_type": "execute_result"
    },
    {
     "data": {
      "image/png": "[encoded data removed]",
      "text/plain": [
       "<Figure size 432x288 with 1 Axes>"
      ]
     },
     "metadata": {
      "needs_background": "light"
     },
     "output_type": "display_data"
    }
   ],
   "source": [
    "for i,f in enumerate(mf):\n",
    "    plot(f,label=round(ind_array[i],2))\n",
    "xlabel('generations')\n",
    "ylabel('mean fitness')\n",
    "legend(title='size of independent part')"
   ]
  },
  {
   "cell_type": "code",
   "execution_count": null,
   "id": "63b3728b",
   "metadata": {},
   "outputs": [],
   "source": []
  }
 ],
 "metadata": {
  "kernelspec": {
   "display_name": "Python 3",
   "language": "python",
   "name": "python3"
  },
  "language_info": {
   "codemirror_mode": {
    "name": "ipython",
    "version": 3
   },
   "file_extension": ".py",
   "mimetype": "text/x-python",
   "name": "python",
   "nbconvert_exporter": "python",
   "pygments_lexer": "ipython3",
   "version": "3.6.13"
  }
 },
 "nbformat": 4,
 "nbformat_minor": 5
}
